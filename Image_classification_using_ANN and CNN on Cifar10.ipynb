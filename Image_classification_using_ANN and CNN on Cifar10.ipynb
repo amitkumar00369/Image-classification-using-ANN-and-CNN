{
 "cells": [
  {
   "cell_type": "code",
   "execution_count": 47,
   "id": "3090e7dc",
   "metadata": {},
   "outputs": [],
   "source": [
    "import numpy as np\n",
    "import matplotlib.pyplot as plt\n",
    "%matplotlib inline\n",
    "import tensorflow as tf\n",
    "from tensorflow import keras"
   ]
  },
  {
   "cell_type": "code",
   "execution_count": 48,
   "id": "2f081f50",
   "metadata": {},
   "outputs": [],
   "source": [
    "(x_train,y_train),(x_test,y_test)=keras.datasets.cifar10.load_data()"
   ]
  },
  {
   "cell_type": "code",
   "execution_count": 49,
   "id": "5b4b7358",
   "metadata": {},
   "outputs": [
    {
     "data": {
      "text/plain": [
       "4"
      ]
     },
     "execution_count": 49,
     "metadata": {},
     "output_type": "execute_result"
    }
   ],
   "source": [
    "x_train.ndim"
   ]
  },
  {
   "cell_type": "code",
   "execution_count": 4,
   "id": "f45b8ec9",
   "metadata": {},
   "outputs": [
    {
     "data": {
      "text/plain": [
       "(50000, 32, 32, 3)"
      ]
     },
     "execution_count": 4,
     "metadata": {},
     "output_type": "execute_result"
    }
   ],
   "source": [
    "x_train.shape"
   ]
  },
  {
   "cell_type": "code",
   "execution_count": 5,
   "id": "997acd24",
   "metadata": {},
   "outputs": [
    {
     "data": {
      "text/plain": [
       "(10000, 32, 32, 3)"
      ]
     },
     "execution_count": 5,
     "metadata": {},
     "output_type": "execute_result"
    }
   ],
   "source": [
    "x_test.shape"
   ]
  },
  {
   "cell_type": "code",
   "execution_count": 6,
   "id": "1106f6e0",
   "metadata": {},
   "outputs": [
    {
     "data": {
      "text/plain": [
       "(50000, 1)"
      ]
     },
     "execution_count": 6,
     "metadata": {},
     "output_type": "execute_result"
    }
   ],
   "source": [
    "y_train.shape"
   ]
  },
  {
   "cell_type": "code",
   "execution_count": 7,
   "id": "cd5c4cc0",
   "metadata": {},
   "outputs": [
    {
     "data": {
      "text/plain": [
       "2"
      ]
     },
     "execution_count": 7,
     "metadata": {},
     "output_type": "execute_result"
    }
   ],
   "source": [
    "y_train.ndim"
   ]
  },
  {
   "cell_type": "code",
   "execution_count": 8,
   "id": "b61ca002",
   "metadata": {},
   "outputs": [
    {
     "data": {
      "text/plain": [
       "array([[6],\n",
       "       [9],\n",
       "       [9],\n",
       "       [4],\n",
       "       [1]], dtype=uint8)"
      ]
     },
     "execution_count": 8,
     "metadata": {},
     "output_type": "execute_result"
    }
   ],
   "source": [
    "y_train[:5]"
   ]
  },
  {
   "cell_type": "code",
   "execution_count": 9,
   "id": "e3f24999",
   "metadata": {},
   "outputs": [
    {
     "data": {
      "text/plain": [
       "array([6], dtype=uint8)"
      ]
     },
     "execution_count": 9,
     "metadata": {},
     "output_type": "execute_result"
    }
   ],
   "source": [
    "y_train[0][:5]"
   ]
  },
  {
   "cell_type": "code",
   "execution_count": 10,
   "id": "908d5a83",
   "metadata": {
    "scrolled": true
   },
   "outputs": [
    {
     "data": {
      "text/plain": [
       "array([[3],\n",
       "       [8],\n",
       "       [8],\n",
       "       ...,\n",
       "       [5],\n",
       "       [1],\n",
       "       [7]], dtype=uint8)"
      ]
     },
     "execution_count": 10,
     "metadata": {},
     "output_type": "execute_result"
    }
   ],
   "source": [
    "y_test"
   ]
  },
  {
   "cell_type": "code",
   "execution_count": 11,
   "id": "f0dfa960",
   "metadata": {},
   "outputs": [],
   "source": [
    "y_train=y_train.reshape(-1,)"
   ]
  },
  {
   "cell_type": "code",
   "execution_count": 12,
   "id": "bb62350f",
   "metadata": {},
   "outputs": [
    {
     "data": {
      "text/plain": [
       "array([6, 9, 9, ..., 9, 1, 1], dtype=uint8)"
      ]
     },
     "execution_count": 12,
     "metadata": {},
     "output_type": "execute_result"
    }
   ],
   "source": [
    "y_train"
   ]
  },
  {
   "cell_type": "code",
   "execution_count": 13,
   "id": "16f4400c",
   "metadata": {},
   "outputs": [],
   "source": [
    "classes=['airplane', 'automobile', 'bird', 'cat', 'deer', 'dog', 'frog', 'horse', 'ship', 'truck']\n",
    "\n",
    "\n",
    "\n",
    "# x='airplane automobile bird cat deer dog frog horse ship truck'\n",
    "# print(x.split())"
   ]
  },
  {
   "cell_type": "code",
   "execution_count": 14,
   "id": "53e142bb",
   "metadata": {},
   "outputs": [
    {
     "data": {
      "text/plain": [
       "6"
      ]
     },
     "execution_count": 14,
     "metadata": {},
     "output_type": "execute_result"
    }
   ],
   "source": [
    "y_train[0]"
   ]
  },
  {
   "cell_type": "code",
   "execution_count": 15,
   "id": "816e65d0",
   "metadata": {},
   "outputs": [
    {
     "data": {
      "text/plain": [
       "'frog'"
      ]
     },
     "execution_count": 15,
     "metadata": {},
     "output_type": "execute_result"
    }
   ],
   "source": [
    "classes[6]"
   ]
  },
  {
   "cell_type": "code",
   "execution_count": null,
   "id": "41aee5eb",
   "metadata": {},
   "outputs": [],
   "source": []
  },
  {
   "cell_type": "code",
   "execution_count": null,
   "id": "7979f38d",
   "metadata": {},
   "outputs": [],
   "source": []
  },
  {
   "cell_type": "code",
   "execution_count": 16,
   "id": "022fa4b5",
   "metadata": {},
   "outputs": [],
   "source": [
    "def plot_sample(X,y,index):\n",
    "    plt.figure(figsize=(15,2))\n",
    "    plt.imshow(X[index])\n",
    "    plt.xlabel(classes[y[index]])"
   ]
  },
  {
   "cell_type": "code",
   "execution_count": 17,
   "id": "46236416",
   "metadata": {},
   "outputs": [
    {
     "data": {
      "image/png": "[encoded data removed]",
      "text/plain": [
       "<Figure size 1500x200 with 1 Axes>"
      ]
     },
     "metadata": {},
     "output_type": "display_data"
    }
   ],
   "source": [
    "plot_sample(x_train,y_train,0)"
   ]
  },
  {
   "cell_type": "code",
   "execution_count": 18,
   "id": "30bc9a70",
   "metadata": {},
   "outputs": [
    {
     "data": {
      "image/png": "[encoded data removed]",
      "text/plain": [
       "<Figure size 1500x200 with 1 Axes>"
      ]
     },
     "metadata": {},
     "output_type": "display_data"
    }
   ],
   "source": [
    "plot_sample(x_train,y_train,1)"
   ]
  },
  {
   "cell_type": "code",
   "execution_count": 19,
   "id": "36082e55",
   "metadata": {},
   "outputs": [],
   "source": [
    "x_train=x_train/255.0"
   ]
  },
  {
   "cell_type": "code",
   "execution_count": 20,
   "id": "01192a98",
   "metadata": {},
   "outputs": [],
   "source": [
    "x_test=x_test/255.0"
   ]
  },
  {
   "cell_type": "code",
   "execution_count": 21,
   "id": "3ba0010f",
   "metadata": {},
   "outputs": [],
   "source": [
    "from tensorflow.keras import layers, models"
   ]
  },
  {
   "cell_type": "code",
   "execution_count": 22,
   "id": "29cd4ad8",
   "metadata": {},
   "outputs": [
    {
     "name": "stdout",
     "output_type": "stream",
     "text": [
      "Epoch 1/5\n",
      "1563/1563 [==============================] - 92s 58ms/step - loss: 1.9415 - accuracy: 0.3259\n",
      "Epoch 2/5\n",
      "1563/1563 [==============================] - 96s 61ms/step - loss: 1.6831 - accuracy: 0.3973\n",
      "Epoch 3/5\n",
      "1563/1563 [==============================] - 92s 59ms/step - loss: 1.6038 - accuracy: 0.4266\n",
      "Epoch 4/5\n",
      "1563/1563 [==============================] - 90s 57ms/step - loss: 1.5613 - accuracy: 0.4422\n",
      "Epoch 5/5\n",
      "1563/1563 [==============================] - 89s 57ms/step - loss: 1.5278 - accuracy: 0.4575\n"
     ]
    },
    {
     "data": {
      "text/plain": [
       "<keras.callbacks.History at 0x1b69f6034c0>"
      ]
     },
     "execution_count": 22,
     "metadata": {},
     "output_type": "execute_result"
    }
   ],
   "source": [
    "model=models.Sequential([\n",
    "    layers.Flatten(input_shape=(32,32,3)),\n",
    "    layers.Dense(3000,activation='relu'),\n",
    "   \n",
    "   \n",
    "    layers.Dense(10,activation='sigmoid')\n",
    "    \n",
    "])\n",
    "model.compile(\n",
    "    optimizer='adam',\n",
    "    loss='sparse_categorical_crossentropy',\n",
    "    metrics=['accuracy']\n",
    ")\n",
    "\n",
    "model.fit(x_train,y_train,epochs=5)"
   ]
  },
  {
   "cell_type": "code",
   "execution_count": 23,
   "id": "4644b743",
   "metadata": {
    "scrolled": true
   },
   "outputs": [
    {
     "name": "stdout",
     "output_type": "stream",
     "text": [
      "313/313 [==============================] - 6s 17ms/step - loss: 1.6315 - accuracy: 0.4216\n"
     ]
    },
    {
     "data": {
      "text/plain": [
       "[1.631534218788147, 0.42160001397132874]"
      ]
     },
     "execution_count": 23,
     "metadata": {},
     "output_type": "execute_result"
    }
   ],
   "source": [
    "model.evaluate(x_test,y_test)"
   ]
  },
  {
   "cell_type": "code",
   "execution_count": 24,
   "id": "30bc2080",
   "metadata": {},
   "outputs": [
    {
     "name": "stdout",
     "output_type": "stream",
     "text": [
      "313/313 [==============================] - 5s 17ms/step\n"
     ]
    }
   ],
   "source": [
    "y=model.predict(x_test)"
   ]
  },
  {
   "cell_type": "code",
   "execution_count": 25,
   "id": "f8f2fba3",
   "metadata": {
    "scrolled": false
   },
   "outputs": [
    {
     "data": {
      "text/plain": [
       "array([[0.256109  , 0.13353255, 0.7145147 , ..., 0.1661858 , 0.23208122,\n",
       "        0.05002698],\n",
       "       [0.82991815, 0.9692196 , 0.17877625, ..., 0.09943292, 0.8521464 ,\n",
       "        0.92225206],\n",
       "       [0.9443158 , 0.8203297 , 0.41482267, ..., 0.15472741, 0.76717085,\n",
       "        0.6789092 ],\n",
       "       ...,\n",
       "       [0.03950618, 0.01364987, 0.577776  , ..., 0.5293305 , 0.08892833,\n",
       "        0.03754863],\n",
       "       [0.35178137, 0.12404648, 0.6378011 , ..., 0.32771915, 0.03802193,\n",
       "        0.09845404],\n",
       "       [0.296756  , 0.0541483 , 0.75032246, ..., 0.9371145 , 0.03013439,\n",
       "        0.23452172]], dtype=float32)"
      ]
     },
     "execution_count": 25,
     "metadata": {},
     "output_type": "execute_result"
    }
   ],
   "source": [
    "y"
   ]
  },
  {
   "cell_type": "code",
   "execution_count": 26,
   "id": "a6e1f154",
   "metadata": {},
   "outputs": [
    {
     "data": {
      "text/plain": [
       "array([[3],\n",
       "       [8],\n",
       "       [8],\n",
       "       ...,\n",
       "       [5],\n",
       "       [1],\n",
       "       [7]], dtype=uint8)"
      ]
     },
     "execution_count": 26,
     "metadata": {},
     "output_type": "execute_result"
    }
   ],
   "source": [
    "y_test"
   ]
  },
  {
   "cell_type": "code",
   "execution_count": null,
   "id": "3cec5ecf",
   "metadata": {},
   "outputs": [],
   "source": []
  },
  {
   "cell_type": "code",
   "execution_count": 27,
   "id": "ca8f7347",
   "metadata": {},
   "outputs": [
    {
     "data": {
      "text/plain": [
       "[3, 1, 0, 0, 4, 6, 3, 6, 2, 1]"
      ]
     },
     "execution_count": 27,
     "metadata": {},
     "output_type": "execute_result"
    }
   ],
   "source": [
    "y_pred=[np.argmax(i) for i in y]\n",
    "\n",
    "y_pred[:10]"
   ]
  },
  {
   "cell_type": "code",
   "execution_count": 28,
   "id": "f8d44297",
   "metadata": {},
   "outputs": [
    {
     "name": "stdout",
     "output_type": "stream",
     "text": [
      "              precision    recall  f1-score   support\n",
      "\n",
      "           0       0.36      0.56      0.44       640\n",
      "           1       0.53      0.59      0.56       894\n",
      "           2       0.50      0.25      0.34      2005\n",
      "           3       0.25      0.34      0.29       753\n",
      "           4       0.14      0.46      0.21       293\n",
      "           5       0.30      0.39      0.34       777\n",
      "           6       0.63      0.41      0.50      1522\n",
      "           7       0.68      0.39      0.49      1747\n",
      "           8       0.41      0.71      0.52       577\n",
      "           9       0.42      0.53      0.47       792\n",
      "\n",
      "    accuracy                           0.42     10000\n",
      "   macro avg       0.42      0.46      0.41     10000\n",
      "weighted avg       0.49      0.42      0.43     10000\n",
      "\n"
     ]
    }
   ],
   "source": [
    "from sklearn.metrics import classification_report,confusion_matrix\n",
    "print(classification_report(y_pred,y_test))"
   ]
  },
  {
   "cell_type": "code",
   "execution_count": 29,
   "id": "ea5e12ac",
   "metadata": {},
   "outputs": [
    {
     "name": "stdout",
     "output_type": "stream",
     "text": [
      "Epoch 1/10\n",
      "1563/1563 [==============================] - 85s 53ms/step - loss: 1.3401 - accuracy: 0.5215\n",
      "Epoch 2/10\n",
      "1563/1563 [==============================] - 82s 53ms/step - loss: 0.9532 - accuracy: 0.6652\n",
      "Epoch 3/10\n",
      "1563/1563 [==============================] - 82s 52ms/step - loss: 0.7632 - accuracy: 0.7357\n",
      "Epoch 4/10\n",
      "1563/1563 [==============================] - 82s 53ms/step - loss: 0.5976 - accuracy: 0.7913\n",
      "Epoch 5/10\n",
      "1563/1563 [==============================] - 83s 53ms/step - loss: 0.4293 - accuracy: 0.8513\n",
      "Epoch 6/10\n",
      "1563/1563 [==============================] - 82s 52ms/step - loss: 0.2854 - accuracy: 0.9014\n",
      "Epoch 7/10\n",
      "1563/1563 [==============================] - 82s 52ms/step - loss: 0.1807 - accuracy: 0.9392\n",
      "Epoch 8/10\n",
      "1563/1563 [==============================] - 83s 53ms/step - loss: 0.1318 - accuracy: 0.9552\n",
      "Epoch 9/10\n",
      "1563/1563 [==============================] - 83s 53ms/step - loss: 0.0979 - accuracy: 0.9670\n",
      "Epoch 10/10\n",
      "1563/1563 [==============================] - 82s 53ms/step - loss: 0.0911 - accuracy: 0.9687\n"
     ]
    },
    {
     "data": {
      "text/plain": [
       "<keras.callbacks.History at 0x1b69d3b6050>"
      ]
     },
     "execution_count": 29,
     "metadata": {},
     "output_type": "execute_result"
    }
   ],
   "source": [
    "cnn=models.Sequential([\n",
    "    #cnn implementation\n",
    "    layers.Conv2D(filters=32, kernel_size=(3,3),input_shape=(32,32,3),activation='relu'),\n",
    "    layers.MaxPool2D((2,2)),\n",
    "    layers.Conv2D(filters=64, kernel_size=(3,3),input_shape=(32,32,3),activation='relu'),\n",
    "    layers.MaxPool2D((2,2)),\n",
    "    \n",
    "    layers.Flatten(),\n",
    "    layers.Dense(1000, activation='relu'),\n",
    "    layers.Dense(10,activation='softmax')\n",
    "    \n",
    "])\n",
    "\n",
    "cnn.compile(\n",
    "    optimizer='adam',\n",
    "    loss='sparse_categorical_crossentropy',\n",
    "    metrics=['accuracy']\n",
    ")\n",
    "\n",
    "cnn.fit(x_train,y_train,epochs=10)"
   ]
  },
  {
   "cell_type": "code",
   "execution_count": 30,
   "id": "ff502e46",
   "metadata": {},
   "outputs": [
    {
     "name": "stdout",
     "output_type": "stream",
     "text": [
      "313/313 [==============================] - 5s 17ms/step - loss: 1.6258 - accuracy: 0.6993\n"
     ]
    },
    {
     "data": {
      "text/plain": [
       "[1.625823974609375, 0.6992999911308289]"
      ]
     },
     "execution_count": 30,
     "metadata": {},
     "output_type": "execute_result"
    }
   ],
   "source": [
    "cnn.evaluate(x_test,y_test)"
   ]
  },
  {
   "cell_type": "code",
   "execution_count": 31,
   "id": "af1e83f1",
   "metadata": {
    "scrolled": true
   },
   "outputs": [
    {
     "name": "stdout",
     "output_type": "stream",
     "text": [
      "313/313 [==============================] - 5s 16ms/step\n"
     ]
    }
   ],
   "source": [
    "y=cnn.predict(x_test)"
   ]
  },
  {
   "cell_type": "code",
   "execution_count": 32,
   "id": "477bc458",
   "metadata": {},
   "outputs": [
    {
     "data": {
      "text/plain": [
       "array([[1.34609746e-08, 1.17481744e-04, 4.08026215e-04, ...,\n",
       "        1.92353591e-10, 5.28370890e-07, 4.89939048e-05],\n",
       "       [4.21213008e-06, 5.32727599e-01, 1.91294099e-19, ...,\n",
       "        1.22314676e-17, 4.67267990e-01, 2.20077894e-07],\n",
       "       [4.00432665e-03, 1.14189656e-02, 9.28472105e-07, ...,\n",
       "        4.41657066e-05, 9.84078884e-01, 4.27223888e-04],\n",
       "       ...,\n",
       "       [1.57385349e-13, 8.39716225e-19, 1.42237889e-02, ...,\n",
       "        3.23159533e-04, 1.07437266e-13, 3.18130071e-11],\n",
       "       [6.15000606e-10, 9.96248066e-01, 1.42561328e-06, ...,\n",
       "        4.04718793e-11, 5.21213498e-12, 6.72055793e-18],\n",
       "       [5.33883340e-22, 1.90609838e-21, 8.06638164e-20, ...,\n",
       "        1.00000000e+00, 9.84878543e-18, 1.76234371e-19]], dtype=float32)"
      ]
     },
     "execution_count": 32,
     "metadata": {},
     "output_type": "execute_result"
    }
   ],
   "source": [
    "y"
   ]
  },
  {
   "cell_type": "code",
   "execution_count": 33,
   "id": "085d8cd3",
   "metadata": {},
   "outputs": [
    {
     "data": {
      "text/plain": [
       "array([1.34609746e-08, 1.17481744e-04, 4.08026215e-04, 6.88185930e-01,\n",
       "       1.09512337e-04, 2.98821896e-01, 1.23076728e-02, 1.92353591e-10,\n",
       "       5.28370890e-07, 4.89939048e-05], dtype=float32)"
      ]
     },
     "execution_count": 33,
     "metadata": {},
     "output_type": "execute_result"
    }
   ],
   "source": [
    "y[0]"
   ]
  },
  {
   "cell_type": "code",
   "execution_count": 34,
   "id": "631cd212",
   "metadata": {},
   "outputs": [],
   "source": [
    "y_pred=[np.argmax(i) for i in y]"
   ]
  },
  {
   "cell_type": "code",
   "execution_count": 35,
   "id": "238fdf39",
   "metadata": {
    "scrolled": true
   },
   "outputs": [
    {
     "data": {
      "text/plain": [
       "[3, 1, 8, 0, 4, 6, 1, 2, 3, 1]"
      ]
     },
     "execution_count": 35,
     "metadata": {},
     "output_type": "execute_result"
    }
   ],
   "source": [
    "y_pred[:10]"
   ]
  },
  {
   "cell_type": "code",
   "execution_count": 36,
   "id": "47fce3fe",
   "metadata": {
    "scrolled": false
   },
   "outputs": [
    {
     "data": {
      "text/plain": [
       "array([[3],\n",
       "       [8],\n",
       "       [8],\n",
       "       [0],\n",
       "       [6],\n",
       "       [6],\n",
       "       [1],\n",
       "       [6],\n",
       "       [3],\n",
       "       [1]], dtype=uint8)"
      ]
     },
     "execution_count": 36,
     "metadata": {},
     "output_type": "execute_result"
    }
   ],
   "source": [
    "y_test[:10]"
   ]
  },
  {
   "cell_type": "code",
   "execution_count": 37,
   "id": "047d34ef",
   "metadata": {},
   "outputs": [],
   "source": [
    "y_test=y_test.reshape(-1,)"
   ]
  },
  {
   "cell_type": "code",
   "execution_count": 38,
   "id": "8d64257d",
   "metadata": {
    "scrolled": true
   },
   "outputs": [
    {
     "data": {
      "image/png": "[encoded data removed]",
      "text/plain": [
       "<Figure size 1500x200 with 1 Axes>"
      ]
     },
     "metadata": {},
     "output_type": "display_data"
    }
   ],
   "source": [
    "plot_sample(x_test,y_test,0)"
   ]
  },
  {
   "cell_type": "code",
   "execution_count": 45,
   "id": "06b1d5a0",
   "metadata": {},
   "outputs": [
    {
     "data": {
      "image/png": "[encoded data removed]",
      "text/plain": [
       "<Figure size 1500x200 with 1 Axes>"
      ]
     },
     "metadata": {},
     "output_type": "display_data"
    }
   ],
   "source": [
    "plot_sample(x_test,y_test,1)"
   ]
  },
  {
   "cell_type": "code",
   "execution_count": 39,
   "id": "4d9fe132",
   "metadata": {},
   "outputs": [
    {
     "data": {
      "text/plain": [
       "'cat'"
      ]
     },
     "execution_count": 39,
     "metadata": {},
     "output_type": "execute_result"
    }
   ],
   "source": [
    "classes[3]\n",
    "# plot_sample(x_train,y_train,0) matched"
   ]
  },
  {
   "cell_type": "code",
   "execution_count": 46,
   "id": "f4c27980",
   "metadata": {},
   "outputs": [
    {
     "data": {
      "text/plain": [
       "'ship'"
      ]
     },
     "execution_count": 46,
     "metadata": {},
     "output_type": "execute_result"
    }
   ],
   "source": [
    "classes[8]"
   ]
  },
  {
   "cell_type": "code",
   "execution_count": null,
   "id": "0d23523f",
   "metadata": {},
   "outputs": [],
   "source": []
  },
  {
   "cell_type": "code",
   "execution_count": 40,
   "id": "3198e539",
   "metadata": {},
   "outputs": [
    {
     "name": "stdout",
     "output_type": "stream",
     "text": [
      "              precision    recall  f1-score   support\n",
      "\n",
      "           0       0.76      0.68      0.72      1000\n",
      "           1       0.84      0.83      0.83      1000\n",
      "           2       0.67      0.54      0.60      1000\n",
      "           3       0.50      0.51      0.50      1000\n",
      "           4       0.58      0.73      0.65      1000\n",
      "           5       0.63      0.57      0.60      1000\n",
      "           6       0.72      0.79      0.75      1000\n",
      "           7       0.74      0.74      0.74      1000\n",
      "           8       0.81      0.80      0.81      1000\n",
      "           9       0.78      0.81      0.80      1000\n",
      "\n",
      "    accuracy                           0.70     10000\n",
      "   macro avg       0.70      0.70      0.70     10000\n",
      "weighted avg       0.70      0.70      0.70     10000\n",
      "\n"
     ]
    }
   ],
   "source": [
    "print(classification_report(y_test,y_pred))"
   ]
  },
  {
   "cell_type": "code",
   "execution_count": 41,
   "id": "14395ee4",
   "metadata": {},
   "outputs": [],
   "source": [
    "cm1=tf.math.confusion_matrix(y_test,y_pred)"
   ]
  },
  {
   "cell_type": "code",
   "execution_count": 42,
   "id": "2dc28e83",
   "metadata": {},
   "outputs": [
    {
     "data": {
      "text/plain": [
       "<tf.Tensor: shape=(10, 10), dtype=int32, numpy=\n",
       "array([[683,  32,  64,  23,  46,   7,  14,  16,  76,  39],\n",
       "       [ 18, 826,   8,   9,   5,   6,  15,   5,  30,  78],\n",
       "       [ 64,   6, 538,  61, 110,  82,  63,  49,  16,  11],\n",
       "       [ 24,   7,  41, 509, 103, 136,  95,  46,  16,  23],\n",
       "       [ 11,   1,  47,  70, 726,  29,  48,  58,   6,   4],\n",
       "       [ 13,   0,  31, 189,  76, 572,  44,  58,   6,  11],\n",
       "       [  6,   6,  40,  68,  49,  24, 785,  13,   6,   3],\n",
       "       [ 12,   1,  14,  49, 106,  45,  10, 741,   6,  16],\n",
       "       [ 45,  40,  16,  19,  17,   8,   5,   8, 803,  39],\n",
       "       [ 27,  68,   7,  19,   9,   6,  13,  11,  30, 810]])>"
      ]
     },
     "execution_count": 42,
     "metadata": {},
     "output_type": "execute_result"
    }
   ],
   "source": [
    "cm1"
   ]
  },
  {
   "cell_type": "code",
   "execution_count": 43,
   "id": "031ef146",
   "metadata": {},
   "outputs": [
    {
     "data": {
      "text/plain": [
       "Text(50.722222222222214, 0.5, 'Prediction')"
      ]
     },
     "execution_count": 43,
     "metadata": {},
     "output_type": "execute_result"
    },
    {
     "data": {
      "image/png": "[encoded data removed]",
      "text/plain": [
       "<Figure size 640x480 with 2 Axes>"
      ]
     },
     "metadata": {},
     "output_type": "display_data"
    }
   ],
   "source": [
    "\n",
    "import seaborn as sns\n",
    "sns.heatmap(cm1,annot=True, fmt='d')\n",
    "plt.xlabel('Truth')\n",
    "plt.ylabel('Prediction')"
   ]
  },
  {
   "cell_type": "markdown",
   "id": "f9cf9194",
   "metadata": {},
   "source": []
  }
 ],
 "metadata": {
  "kernelspec": {
   "display_name": "Python 3 (ipykernel)",
   "language": "python",
   "name": "python3"
  },
  "language_info": {
   "codemirror_mode": {
    "name": "ipython",
    "version": 3
   },
   "file_extension": ".py",
   "mimetype": "text/x-python",
   "name": "python",
   "nbconvert_exporter": "python",
   "pygments_lexer": "ipython3",
   "version": "3.10.6"
  }
 },
 "nbformat": 4,
 "nbformat_minor": 5
}
